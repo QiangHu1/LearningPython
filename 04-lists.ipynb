{
 "cells": [
  {
   "cell_type": "code",
   "execution_count": 13,
   "id": "f8a44fcd-bebd-4f0d-9773-5100d31999cb",
   "metadata": {},
   "outputs": [
    {
     "name": "stdout",
     "output_type": "stream",
     "text": [
      " odds are : [1, 3, 5, 7]\n"
     ]
    }
   ],
   "source": [
    "odds = [1,3,5,7]\n",
    "print(' odds are :', odds)"
   ]
  },
  {
   "cell_type": "code",
   "execution_count": 2,
   "id": "741fc67f-04bb-4d56-9408-ea447c85999f",
   "metadata": {},
   "outputs": [
    {
     "name": "stdout",
     "output_type": "stream",
     "text": [
      "first element: 1\n",
      "last element: 7\n",
      "\"-1\" element: 7\n"
     ]
    }
   ],
   "source": [
    "print('first element:', odds[0])\n",
    "print('last element:', odds[3])\n",
    "print('\"-1\" element:', odds[-1])"
   ]
  },
  {
   "cell_type": "code",
   "execution_count": 4,
   "id": "04606345-008c-4bb0-a98b-87fe511abd95",
   "metadata": {},
   "outputs": [
    {
     "name": "stdout",
     "output_type": "stream",
     "text": [
      "D\n",
      "Darwin\n"
     ]
    }
   ],
   "source": [
    "name = \"Darwin\"\n",
    "print(name[0])\n",
    "\n",
    "print(name)"
   ]
  },
  {
   "cell_type": "code",
   "execution_count": 7,
   "id": "100b8676-644b-42f2-8d1c-27fc718c2d4c",
   "metadata": {},
   "outputs": [
    {
     "name": "stdout",
     "output_type": "stream",
     "text": [
      "w\n"
     ]
    }
   ],
   "source": [
    "x =[[\"q\",\"w\"],[\"s\",\"d\"]]\n",
    "print(x[0][1])"
   ]
  },
  {
   "cell_type": "code",
   "execution_count": 15,
   "id": "bc620bad-65cf-4baa-8896-27842faad931",
   "metadata": {},
   "outputs": [],
   "source": [
    "odds.append(13)"
   ]
  },
  {
   "cell_type": "code",
   "execution_count": 9,
   "id": "127e7533-c249-4a48-8ed1-52d88edc255d",
   "metadata": {},
   "outputs": [
    {
     "name": "stdout",
     "output_type": "stream",
     "text": [
      "[1, 3, 5, 7, 13]\n"
     ]
    }
   ],
   "source": [
    "print(odds)"
   ]
  },
  {
   "cell_type": "code",
   "execution_count": 16,
   "id": "f3dda581-38be-45d1-b270-d309c223f047",
   "metadata": {},
   "outputs": [
    {
     "name": "stdout",
     "output_type": "stream",
     "text": [
      "13\n"
     ]
    }
   ],
   "source": [
    "odd = odds.pop(4)\n",
    "print(odd)"
   ]
  },
  {
   "cell_type": "code",
   "execution_count": 20,
   "id": "1fc7aa6d-9b2b-496a-b102-614831c08b6e",
   "metadata": {},
   "outputs": [],
   "source": [
    "st = \"Observation date: 02-Feb-2013\"\n"
   ]
  },
  {
   "cell_type": "code",
   "execution_count": 23,
   "id": "546e2421-44fd-492e-8c37-5b6b8e32a3be",
   "metadata": {},
   "outputs": [
    {
     "name": "stdout",
     "output_type": "stream",
     "text": [
      "2013\n"
     ]
    }
   ],
   "source": [
    "\n",
    "nt = st[-4:]\n",
    "print(nt)"
   ]
  },
  {
   "cell_type": "code",
   "execution_count": 24,
   "id": "4eb35d89-daef-4dd3-ac19-cf12a8d0e5c2",
   "metadata": {},
   "outputs": [
    {
     "data": {
      "text/plain": [
       "'I notpssgre ntesae'"
      ]
     },
     "execution_count": 24,
     "metadata": {},
     "output_type": "execute_result"
    }
   ],
   "source": [
    "beatles = \"In an octopus's garden in the shade\"\n",
    "beatles[0:35:2]"
   ]
  },
  {
   "cell_type": "code",
   "execution_count": 25,
   "id": "e0989e60-105b-4b94-89c2-694bece47b5e",
   "metadata": {},
   "outputs": [
    {
     "name": "stdout",
     "output_type": "stream",
     "text": [
      "[1, 3, 5, 7, 1, 3, 5, 7]\n"
     ]
    }
   ],
   "source": [
    "print(odds *2 )"
   ]
  },
  {
   "cell_type": "code",
   "execution_count": null,
   "id": "68f341c0-26c4-4e50-831f-bfe8ed16c07d",
   "metadata": {},
   "outputs": [],
   "source": []
  }
 ],
 "metadata": {
  "kernelspec": {
   "display_name": "Python 3 (ipykernel)",
   "language": "python",
   "name": "python3"
  },
  "language_info": {
   "codemirror_mode": {
    "name": "ipython",
    "version": 3
   },
   "file_extension": ".py",
   "mimetype": "text/x-python",
   "name": "python",
   "nbconvert_exporter": "python",
   "pygments_lexer": "ipython3",
   "version": "3.9.12"
  }
 },
 "nbformat": 4,
 "nbformat_minor": 5
}
