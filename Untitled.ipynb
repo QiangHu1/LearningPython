{
 "cells": [
  {
   "cell_type": "code",
   "execution_count": 1,
   "id": "ce6c61ca-73c0-461e-a4d2-3fd81e16a2c3",
   "metadata": {},
   "outputs": [
    {
     "ename": "NameError",
     "evalue": "name 'arthritis' is not defined",
     "output_type": "error",
     "traceback": [
      "\u001b[1;31m---------------------------------------------------------------------------\u001b[0m",
      "\u001b[1;31mNameError\u001b[0m                                 Traceback (most recent call last)",
      "Input \u001b[1;32mIn [1]\u001b[0m, in \u001b[0;36m<cell line: 1>\u001b[1;34m()\u001b[0m\n\u001b[1;32m----> 1\u001b[0m \u001b[38;5;28mprint\u001b[39m(\u001b[43marthritis\u001b[49m)\n",
      "\u001b[1;31mNameError\u001b[0m: name 'arthritis' is not defined"
     ]
    }
   ],
   "source": [
    "print(arthritis)"
   ]
  },
  {
   "cell_type": "code",
   "execution_count": 2,
   "id": "e5d0b7ed-eb6f-470a-82a3-aa0c6cb80a6c",
   "metadata": {},
   "outputs": [],
   "source": [
    "import numpy"
   ]
  },
  {
   "cell_type": "code",
   "execution_count": 5,
   "id": "ee14bbbd-40d6-4857-ba97-24f64002d198",
   "metadata": {},
   "outputs": [],
   "source": [
    "arthritis = numpy.loadtxt(fname='data/inflammation-01.csv',delimiter=',')"
   ]
  },
  {
   "cell_type": "code",
   "execution_count": 6,
   "id": "24adc62b-6472-4653-9ac3-ddc3a818dcdc",
   "metadata": {},
   "outputs": [
    {
     "name": "stdout",
     "output_type": "stream",
     "text": [
      "[[0. 0. 1. ... 3. 0. 0.]\n",
      " [0. 1. 2. ... 1. 0. 1.]\n",
      " [0. 1. 1. ... 2. 1. 1.]\n",
      " ...\n",
      " [0. 1. 1. ... 1. 1. 1.]\n",
      " [0. 0. 0. ... 0. 2. 0.]\n",
      " [0. 0. 1. ... 1. 1. 0.]]\n"
     ]
    }
   ],
   "source": [
    "print(arthritis)"
   ]
  },
  {
   "cell_type": "code",
   "execution_count": 7,
   "id": "f82f0854-0668-4f4a-a2a6-fb38e1f54b30",
   "metadata": {},
   "outputs": [
    {
     "name": "stdout",
     "output_type": "stream",
     "text": [
      "small is:\n",
      "[[2. 3. 0. 0.]\n",
      " [1. 1. 0. 1.]\n",
      " [2. 2. 1. 1.]]\n"
     ]
    }
   ],
   "source": [
    "small = arthritis[:3, 36:]\n",
    "print('small is:')\n",
    "print(small)"
   ]
  },
  {
   "cell_type": "code",
   "execution_count": 10,
   "id": "e0a39cfc-853f-491e-95ce-1a3db02b5e74",
   "metadata": {},
   "outputs": [
    {
     "name": "stdout",
     "output_type": "stream",
     "text": [
      "4.613833197118566\n"
     ]
    }
   ],
   "source": [
    "print(arthritis.std())"
   ]
  },
  {
   "cell_type": "code",
   "execution_count": 13,
   "id": "2550d5cc-6763-45f3-9f38-0c4e4d87fe63",
   "metadata": {},
   "outputs": [
    {
     "data": {
      "text/plain": [
       "2400"
      ]
     },
     "execution_count": 13,
     "metadata": {},
     "output_type": "execute_result"
    }
   ],
   "source": [
    "arthritis.size"
   ]
  },
  {
   "cell_type": "code",
   "execution_count": 14,
   "id": "5fc14a0c-2f47-45df-85da-5ac1dda0ba80",
   "metadata": {},
   "outputs": [
    {
     "name": "stdout",
     "output_type": "stream",
     "text": [
      "Fri Sep 30 12:06:23 2022\n"
     ]
    }
   ],
   "source": [
    "import time\n",
    "print(time.ctime())"
   ]
  },
  {
   "cell_type": "code",
   "execution_count": 23,
   "id": "7e561e71-43aa-4519-94a9-18f26ae0c72b",
   "metadata": {},
   "outputs": [
    {
     "name": "stdout",
     "output_type": "stream",
     "text": [
      "4.579294680644961\n"
     ]
    }
   ],
   "source": [
    "print(numpy.mean(numpy.std(arthritis,axis=1)))"
   ]
  },
  {
   "cell_type": "code",
   "execution_count": 19,
   "id": "72d193b3-336e-47b8-9f05-181ed9d7c376",
   "metadata": {},
   "outputs": [
    {
     "name": "stdout",
     "output_type": "stream",
     "text": [
      "the average 4.579294680644961\n"
     ]
    }
   ],
   "source": [
    "print(\"the average\", arthritis.std(axis=1).mean())"
   ]
  },
  {
   "cell_type": "code",
   "execution_count": null,
   "id": "76cacf35-295a-4895-a646-a098a56a752f",
   "metadata": {},
   "outputs": [],
   "source": []
  }
 ],
 "metadata": {
  "kernelspec": {
   "display_name": "Python 3 (ipykernel)",
   "language": "python",
   "name": "python3"
  },
  "language_info": {
   "codemirror_mode": {
    "name": "ipython",
    "version": 3
   },
   "file_extension": ".py",
   "mimetype": "text/x-python",
   "name": "python",
   "nbconvert_exporter": "python",
   "pygments_lexer": "ipython3",
   "version": "3.9.12"
  }
 },
 "nbformat": 4,
 "nbformat_minor": 5
}
